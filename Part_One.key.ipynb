{
 "cells": [
  {
   "cell_type": "markdown",
   "metadata": {},
   "source": [
    "All notes are based on notes produced by Mike White for WashU Bio 5075 Fundamentals of Biostatistics, a first year DBBS graduate student course."
   ]
  },
  {
   "cell_type": "markdown",
   "metadata": {},
   "source": [
    "# 1. Using Markdown\n",
    "\n",
    "Jupyter notebooks consist of a set of \"cells.\" In these cells, you can write code or type text. You excute each cell by pressing shift-enter. In a markdown cell, you can write formatted text. In a code cell, you can write Python code.\n",
    "\n",
    "This is useful because it's like a lab notebook - write down experimental methods, notes about the data, then analyze, etc...\n",
    "\n",
    "Key things to know:\n",
    "    1. Use the dropdown menu to select \"code\" or \"markdown\" cell type. (We won't use the other cell types.)\n",
    "    2. Text can be formatted using what's called **markdown**\n",
    "    3. Type text and format, then hit shift-enter to execute the cell (display the formatted text)."
   ]
  },
  {
   "cell_type": "markdown",
   "metadata": {},
   "source": [
    "---\n",
    "\n",
    "## Select this cell. \n",
    "\n",
    "1. Now create your own new cell below it using the + button.\n",
    "2. Change the cell type to Markdown using the drop down menu.\n",
    "3. Write a sentence and press shift-enter.\n",
    "4. Double click on the new cell to edit your sentence, then press shift-enter again.\n",
    "\n",
    "---"
   ]
  },
  {
   "cell_type": "markdown",
   "metadata": {},
   "source": [
    "Hello there -- how are you? Great"
   ]
  },
  {
   "cell_type": "markdown",
   "metadata": {},
   "source": [
    "## Markdown format examples\n",
    "\n",
    "(Double click the cell to make it editable, which allows you to see markdown formatting symbols.)\n",
    "\n",
    "\n",
    "# Big Header\n",
    "## Smaller Header\n",
    "### Even Smaller Header\n",
    "\n",
    "*Italic* text\n",
    "**Bold** text\n",
    "\n",
    "Use backticks for plain text for code examples:\n",
    "`print('Hello World'\\n)`\n",
    "\n",
    "Code example with syntax coloring:\n",
    "\n",
    "```python\n",
    "data = [1,2,3]\n",
    "print(data)\n",
    "```\n",
    "\n",
    "Lists are created by typing a number followed by a period or parentheses:\n",
    "1. Adenine\n",
    "2. Cytosine\n",
    "3. Guanine\n",
    "4. Thymine\n",
    "\n",
    "Math (LaTex format) is enclosed by dollar signs:\n",
    "\n",
    "$\\textit{sample_mean} = \\frac{\\textit{sum}}{\\textit{n}}$\n"
   ]
  },
  {
   "cell_type": "markdown",
   "metadata": {},
   "source": [
    "# 2. Variables\n",
    "\n",
    "An important concept in any programming language is the idea of a variable. Variables in programming languages are similar to, but not the same as, variables in math.\n",
    "\n",
    "Variables are names referring to objects stored in the computer's memory. An object or a type of data is *assigned* to a variable (using, as we'll see, the `=` symbol, called the *assignment operator*). Once an object has been assigned to a variable, you work with that object by invoking the variable name in your code.\n",
    "\n",
    "An important feature of variables is that they can be assigned different *types* of data: integers (int), decimal numbers (float), text (str *strings* of characters), boolean values (True, False)."
   ]
  },
  {
   "cell_type": "code",
   "execution_count": 1,
   "metadata": {},
   "outputs": [],
   "source": [
    "# Assigning values to a variable \n",
    "# NOTE: the # symbol denotes comments in Python code. Comments are ignored by the Python interpreter\n",
    "\n",
    "n = 25 # assigning an integer\n",
    "o = 'adenine' # assigning a character string"
   ]
  },
  {
   "cell_type": "code",
   "execution_count": 2,
   "metadata": {},
   "outputs": [
    {
     "name": "stdout",
     "output_type": "stream",
     "text": [
      "25\n"
     ]
    }
   ],
   "source": [
    "# To see the value assigned to the variable n, use the print() function:\n",
    "\n",
    "print(n)"
   ]
  },
  {
   "cell_type": "code",
   "execution_count": 3,
   "metadata": {},
   "outputs": [
    {
     "data": {
      "text/plain": [
       "50"
      ]
     },
     "execution_count": 3,
     "metadata": {},
     "output_type": "execute_result"
    }
   ],
   "source": [
    "# In Jupyter notebook, a variable placed on the last line will displayed automatically without using print()\n",
    "\n",
    "n = 50\n",
    "n"
   ]
  },
  {
   "cell_type": "code",
   "execution_count": 4,
   "metadata": {},
   "outputs": [
    {
     "data": {
      "text/plain": [
       "'adenine'"
      ]
     },
     "execution_count": 4,
     "metadata": {},
     "output_type": "execute_result"
    }
   ],
   "source": [
    "# Notebook displays only the LAST statement as output\n",
    "\n",
    "n # won't be displayed\n",
    "o # will be displayed"
   ]
  },
  {
   "cell_type": "code",
   "execution_count": 5,
   "metadata": {},
   "outputs": [
    {
     "name": "stdout",
     "output_type": "stream",
     "text": [
      "50 adenine\n"
     ]
    }
   ],
   "source": [
    "# To show both variables use print()\n",
    "\n",
    "print(n, o)"
   ]
  },
  {
   "cell_type": "code",
   "execution_count": 6,
   "metadata": {},
   "outputs": [
    {
     "data": {
      "text/plain": [
       "'cysteine'"
      ]
     },
     "execution_count": 6,
     "metadata": {},
     "output_type": "execute_result"
    }
   ],
   "source": [
    "# Variables can be assigned new values of any type - hence the name variable\n",
    "\n",
    "n = 'cysteine' # n is now a text string\n",
    "n"
   ]
  },
  {
   "cell_type": "markdown",
   "metadata": {},
   "source": [
    "## Know the type of value assigned to a variable\n",
    "\n",
    "What you can do with a variable depends on the value assigned to it. You can add ten to a numerical variable, but not to a string.\n",
    "\n",
    "One common cause of buggy code is trying to perform an operation on a variable with the wrong data type."
   ]
  },
  {
   "cell_type": "code",
   "execution_count": 7,
   "metadata": {},
   "outputs": [
    {
     "data": {
      "text/plain": [
       "60"
      ]
     },
     "execution_count": 7,
     "metadata": {},
     "output_type": "execute_result"
    }
   ],
   "source": [
    "a = 50\n",
    "a + 10 # you can add 10 to a number"
   ]
  },
  {
   "cell_type": "code",
   "execution_count": 8,
   "metadata": {},
   "outputs": [
    {
     "ename": "TypeError",
     "evalue": "can only concatenate str (not \"int\") to str",
     "output_type": "error",
     "traceback": [
      "\u001b[0;31m---------------------------------------------------------------------------\u001b[0m",
      "\u001b[0;31mTypeError\u001b[0m                                 Traceback (most recent call last)",
      "\u001b[0;32m<ipython-input-8-c50a0be7c6fc>\u001b[0m in \u001b[0;36m<module>\u001b[0;34m\u001b[0m\n\u001b[1;32m      1\u001b[0m \u001b[0mb\u001b[0m \u001b[0;34m=\u001b[0m \u001b[0;34m'adenine'\u001b[0m\u001b[0;34m\u001b[0m\u001b[0;34m\u001b[0m\u001b[0m\n\u001b[0;32m----> 2\u001b[0;31m \u001b[0mb\u001b[0m \u001b[0;34m+\u001b[0m \u001b[0;36m10\u001b[0m \u001b[0;31m# will give an error\u001b[0m\u001b[0;34m\u001b[0m\u001b[0;34m\u001b[0m\u001b[0m\n\u001b[0m",
      "\u001b[0;31mTypeError\u001b[0m: can only concatenate str (not \"int\") to str"
     ]
    }
   ],
   "source": [
    "b = 'adenine'\n",
    "b + 10 # will give an error"
   ]
  },
  {
   "cell_type": "code",
   "execution_count": 9,
   "metadata": {},
   "outputs": [
    {
     "name": "stdout",
     "output_type": "stream",
     "text": [
      "<class 'int'> <class 'str'> <class 'bool'> <class 'float'>\n"
     ]
    }
   ],
   "source": [
    "# Use the type function to find out what type a variable is\n",
    "\n",
    "c = True\n",
    "d = 12.2\n",
    "\n",
    "print(type(a), type(b), type(c), type(d)) # integer, string, boolean, floating point number"
   ]
  },
  {
   "cell_type": "code",
   "execution_count": 10,
   "metadata": {},
   "outputs": [
    {
     "name": "stdout",
     "output_type": "stream",
     "text": [
      "<class 'int'>\n",
      "<class 'str'>\n"
     ]
    }
   ],
   "source": [
    "# Numbers can be numbers or strings\n",
    "\n",
    "n = 1\n",
    "print(type(n))\n",
    "n = '1'\n",
    "print(type(n))\n"
   ]
  },
  {
   "cell_type": "markdown",
   "metadata": {},
   "source": [
    "## Variables \"capture\" the result of operations\n",
    "\n",
    "A line in the middle of your program might do something that produces an output. If you don't capture that output by assigning it to a variable, it will disappear."
   ]
  },
  {
   "cell_type": "code",
   "execution_count": 11,
   "metadata": {},
   "outputs": [
    {
     "name": "stdout",
     "output_type": "stream",
     "text": [
      "12.2\n"
     ]
    },
    {
     "data": {
      "text/plain": [
       "122.0"
      ]
     },
     "execution_count": 11,
     "metadata": {},
     "output_type": "execute_result"
    }
   ],
   "source": [
    "# multiply `d` by 10:\n",
    "\n",
    "print(d)\n",
    "d*10 # not really useful because the result isn't assigned to a variable"
   ]
  },
  {
   "cell_type": "code",
   "execution_count": 12,
   "metadata": {},
   "outputs": [],
   "source": [
    "# save the result:\n",
    "\n",
    "answer = d*10"
   ]
  },
  {
   "cell_type": "code",
   "execution_count": 13,
   "metadata": {},
   "outputs": [
    {
     "name": "stdout",
     "output_type": "stream",
     "text": [
      "122.0\n"
     ]
    }
   ],
   "source": [
    "# now we can refer to that value later:\n",
    "\n",
    "print(answer)"
   ]
  },
  {
   "cell_type": "markdown",
   "metadata": {},
   "source": [
    "## Python reads assignment statements from right to left\n",
    "\n",
    "Note how variable assignment works in the cell above. The variable name is to the left of the assignment operator. An operation that produces some value is on the right side.\n",
    "\n",
    "Python takes a statement like the one above and works from right to left: the operation on the right is evaluated, and the result is assigned to the variable on the left.\n",
    "\n",
    "You can put any sort of operation on the right side of the assignment operator, including other variables, as in the example below:"
   ]
  },
  {
   "cell_type": "code",
   "execution_count": 14,
   "metadata": {},
   "outputs": [],
   "source": [
    "# Create some variables\n",
    "\n",
    "data = 12\n",
    "scale_factor = 2"
   ]
  },
  {
   "cell_type": "code",
   "execution_count": 15,
   "metadata": {},
   "outputs": [
    {
     "name": "stdout",
     "output_type": "stream",
     "text": [
      "24\n"
     ]
    }
   ],
   "source": [
    "scaled_data = data * scale_factor\n",
    "print(scaled_data)"
   ]
  },
  {
   "cell_type": "markdown",
   "metadata": {},
   "source": [
    "## Interlude: Don't get confused by the order of cells in the notebook\n",
    "\n",
    "Jupyter Notebook consists of a set of cells that you generally run from top to bottom. But Python doesn't care about the order of the cells on your browser, only about what code was run last. \n",
    "\n",
    "In Jupyter, you can edit and rerun previous cells, but beware: if you change the value of a variable in a lower cell, and then rerun an upper cell, the upper cell will use the new value.\n",
    "\n",
    "As an example, run the cell below, then rerun the cell above. Does the result make sense?\n",
    "\n",
    "Notice the number in brackets to the left of each code cell. That refers to the order the cells were run in."
   ]
  },
  {
   "cell_type": "code",
   "execution_count": 16,
   "metadata": {},
   "outputs": [],
   "source": [
    "# When you rerun the previous cell, will factor in the new value.\n",
    "# Pay attention to the line numbers!\n",
    "\n",
    "scale_factor = 3"
   ]
  },
  {
   "cell_type": "code",
   "execution_count": 17,
   "metadata": {},
   "outputs": [
    {
     "ename": "NameError",
     "evalue": "name 'data2' is not defined",
     "output_type": "error",
     "traceback": [
      "\u001b[0;31m---------------------------------------------------------------------------\u001b[0m",
      "\u001b[0;31mNameError\u001b[0m                                 Traceback (most recent call last)",
      "\u001b[0;32m<ipython-input-17-00b7c2e12c5b>\u001b[0m in \u001b[0;36m<module>\u001b[0;34m\u001b[0m\n\u001b[1;32m      2\u001b[0m \u001b[0;31m# This produces an error because data2 is not defined:\u001b[0m\u001b[0;34m\u001b[0m\u001b[0;34m\u001b[0m\u001b[0;34m\u001b[0m\u001b[0m\n\u001b[1;32m      3\u001b[0m \u001b[0;34m\u001b[0m\u001b[0m\n\u001b[0;32m----> 4\u001b[0;31m \u001b[0mscaled_data\u001b[0m \u001b[0;34m=\u001b[0m \u001b[0mdata2\u001b[0m \u001b[0;34m*\u001b[0m \u001b[0mscale_factor\u001b[0m\u001b[0;34m\u001b[0m\u001b[0;34m\u001b[0m\u001b[0m\n\u001b[0m",
      "\u001b[0;31mNameError\u001b[0m: name 'data2' is not defined"
     ]
    }
   ],
   "source": [
    "# Variables need to be defined before you use them in an expression\n",
    "# This produces an error because data2 is not defined:\n",
    "\n",
    "scaled_data = data2 * scale_factor"
   ]
  },
  {
   "cell_type": "markdown",
   "metadata": {},
   "source": [
    "## Defining variables in terms of other variables\n",
    "\n",
    "You can define one variable in terms of another variable, but know that variables defined by other variables are NOT dynamically updated."
   ]
  },
  {
   "cell_type": "code",
   "execution_count": 19,
   "metadata": {},
   "outputs": [
    {
     "name": "stdout",
     "output_type": "stream",
     "text": [
      "12\n"
     ]
    }
   ],
   "source": [
    "# Define some variables\n",
    "\n",
    "replicates = 4\n",
    "mice_per_rep = 3\n",
    "\n",
    "# Define new variable from existing variables\n",
    "total_mice = mice_per_rep * replicates # math with variables\n",
    "print(total_mice)"
   ]
  },
  {
   "cell_type": "code",
   "execution_count": 20,
   "metadata": {},
   "outputs": [
    {
     "name": "stdout",
     "output_type": "stream",
     "text": [
      "12\n"
     ]
    }
   ],
   "source": [
    "# Now let's change the number of replicates. What happens to the value of total_mice?\n",
    "\n",
    "replicates = 5\n",
    "print(total_mice) # Does the value change? What should you do to update it?"
   ]
  },
  {
   "cell_type": "markdown",
   "metadata": {},
   "source": [
    "# 3. Key variable type: strings\n",
    "\n",
    "To define a string, you put a *string* of characters between single or double quotes:"
   ]
  },
  {
   "cell_type": "code",
   "execution_count": 21,
   "metadata": {},
   "outputs": [
    {
     "name": "stdout",
     "output_type": "stream",
     "text": [
      "ACGT\n",
      "TCGA\n"
     ]
    }
   ],
   "source": [
    "dna1 = 'ACGT'\n",
    "print(dna1)\n",
    "dna2 = \"TCGA\"\n",
    "print(dna2)"
   ]
  },
  {
   "cell_type": "code",
   "execution_count": 22,
   "metadata": {},
   "outputs": [
    {
     "name": "stdout",
     "output_type": "stream",
     "text": [
      "GACUAGCUA\n",
      "GGGCUACAG\n",
      "CCAGCAGCA\n"
     ]
    }
   ],
   "source": [
    "# use triple quotes to span multiple lines in a string\n",
    "rna = '''GACUAGCUA\n",
    "GGGCUACAG\n",
    "CCAGCAGCA'''\n",
    "\n",
    "print(rna)"
   ]
  },
  {
   "cell_type": "code",
   "execution_count": 23,
   "metadata": {},
   "outputs": [
    {
     "ename": "SyntaxError",
     "evalue": "invalid syntax (<ipython-input-23-9e33455cc3ab>, line 4)",
     "output_type": "error",
     "traceback": [
      "\u001b[0;36m  File \u001b[0;32m\"<ipython-input-23-9e33455cc3ab>\"\u001b[0;36m, line \u001b[0;32m4\u001b[0m\n\u001b[0;31m    word = 'don't'\u001b[0m\n\u001b[0m                ^\u001b[0m\n\u001b[0;31mSyntaxError\u001b[0m\u001b[0;31m:\u001b[0m invalid syntax\n"
     ]
    }
   ],
   "source": [
    "# Normally we just use single quotes, but sometimes double quotes are useful:\n",
    "# This won't work - python ends the string with the second quote mark:\n",
    "\n",
    "word = 'don't'"
   ]
  },
  {
   "cell_type": "code",
   "execution_count": 24,
   "metadata": {},
   "outputs": [
    {
     "name": "stdout",
     "output_type": "stream",
     "text": [
      "don't\n",
      "don't\n"
     ]
    }
   ],
   "source": [
    "# This works\n",
    "\n",
    "word = \"don't\"\n",
    "print(word)\n",
    "\n",
    "# You can also use the escape character \\ to achieve the same thing:\n",
    "\n",
    "word = 'don\\'t'\n",
    "print(word)"
   ]
  },
  {
   "cell_type": "code",
   "execution_count": 25,
   "metadata": {},
   "outputs": [
    {
     "name": "stdout",
     "output_type": "stream",
     "text": [
      "don't\n",
      "word\n"
     ]
    }
   ],
   "source": [
    "# DON'T CONFUSE VARIABLE NAMES WITH STRINGS!\n",
    "\n",
    "print(word) # print the value of the variable word\n",
    "print('word') # print the string word"
   ]
  },
  {
   "cell_type": "code",
   "execution_count": 26,
   "metadata": {},
   "outputs": [
    {
     "name": "stdout",
     "output_type": "stream",
     "text": [
      "ACGT\n",
      "TCGA\n",
      "ACGTTCGA\n"
     ]
    }
   ],
   "source": [
    "# Some math operators do double duty as operators on strings.\n",
    "# We'll see more examples later on.\n",
    "print(dna1)\n",
    "print(dna2)\n",
    "print(dna1 + dna2) # concatenation"
   ]
  },
  {
   "cell_type": "code",
   "execution_count": 27,
   "metadata": {},
   "outputs": [],
   "source": [
    "# The basic simple variable types\n",
    "\n",
    "gene = \"CDC28\" # strings go between single or double quotes\n",
    "n_mice = 13 # integer\n",
    "protein_level = 1.76 # float\n",
    "is_present = True # boolean can be True or False\n",
    "is_present = False"
   ]
  },
  {
   "cell_type": "markdown",
   "metadata": {},
   "source": [
    "# ACTIVITY 1: Variables\n",
    "\n",
    "## Rules for naming variables:\n",
    "\n",
    "1. Names are case sensitive = `DNA`, `Dna`, and `dna` are all distinct.\n",
    "2. Don't begin with a number\n",
    "3. Generally stick to upper and lower case letters, and numbers\n",
    "4. Avoid these reserved names that are already used by Python:\n",
    "\n",
    "`and, as, assert, break, class, continue, def, del, elif, else,\n",
    "except, False, finally, for, from, global, if, import, in, is, \n",
    "lambda, None, nonlocal, not, or, pass, raise, return, True, try, \n",
    "while, with, yield`\n",
    "\n",
    "\n",
    "## Problem 1.1: Variable assignment\n",
    "\n",
    "In the cell below, take 10 to the 4th power, and assign the result to a variable named `answer1`. To raise a number to a power, use `**`."
   ]
  },
  {
   "cell_type": "code",
   "execution_count": 28,
   "metadata": {},
   "outputs": [
    {
     "name": "stdout",
     "output_type": "stream",
     "text": [
      "10000\n"
     ]
    }
   ],
   "source": [
    "# Write your statement here\n",
    "answer1 = 10**4\n",
    "# Then print the answer\n",
    "print(answer1)"
   ]
  },
  {
   "cell_type": "markdown",
   "metadata": {},
   "source": [
    "## Problem 1.2: Define variables using other variables\n",
    "\n",
    "Variables can be defined by other variables. In the cell below, divide `answer1` by 2, and assign the result to `answer2`, and print the answer."
   ]
  },
  {
   "cell_type": "code",
   "execution_count": 29,
   "metadata": {},
   "outputs": [
    {
     "name": "stdout",
     "output_type": "stream",
     "text": [
      "5000.0\n"
     ]
    }
   ],
   "source": [
    "answer2 = answer1/2\n",
    "print(answer2)"
   ]
  },
  {
   "cell_type": "markdown",
   "metadata": {},
   "source": [
    "## Problem 1.3: Variables from other variables are not dynamically updated\n",
    "\n",
    "A variable whose value comes from another variable is **not** altered when the first variable is changed. \n",
    "\n",
    "To practice this, in the cell below re-assign `answer1` the value of 10 to the 5th power. Run the cell with *shift-enter*. Then print `answer2`. Did the value of `answer2` change?\n",
    "\n",
    "(Bonus question: What data type is `answer2`?)"
   ]
  },
  {
   "cell_type": "code",
   "execution_count": 30,
   "metadata": {},
   "outputs": [
    {
     "name": "stdout",
     "output_type": "stream",
     "text": [
      "5000.0\n"
     ]
    },
    {
     "data": {
      "text/plain": [
       "float"
      ]
     },
     "execution_count": 30,
     "metadata": {},
     "output_type": "execute_result"
    }
   ],
   "source": [
    "answer1 = 10**5\n",
    "print(answer2)\n",
    "\n",
    "type(answer2)"
   ]
  },
  {
   "cell_type": "markdown",
   "metadata": {},
   "source": [
    "## Problem 1.4: Copy a variable\n",
    "\n",
    "You can make a copy of a variable by assigning one variable to a new variable. What happens to the copy when you change the value of the original variable?\n",
    "\n",
    "In the cell below create a copy of `answer2` by assigning to a new variable, `answer3`. When you execute the cell, you see that both variables have the same value.\n",
    "\n",
    "In the subsequent cell, change the value of `answer2` to `20`, then print both variables. What happened to `answer3` when the value of `answer2` was changed?"
   ]
  },
  {
   "cell_type": "code",
   "execution_count": 31,
   "metadata": {},
   "outputs": [],
   "source": [
    "answer3 = answer2"
   ]
  },
  {
   "cell_type": "code",
   "execution_count": 32,
   "metadata": {},
   "outputs": [
    {
     "name": "stdout",
     "output_type": "stream",
     "text": [
      "20 5000.0\n"
     ]
    }
   ],
   "source": [
    "answer2 = 20\n",
    "print(answer2, answer3)"
   ]
  },
  {
   "cell_type": "markdown",
   "metadata": {},
   "source": [
    "## Problem 1.5: Capture the output of a function by assigning it to a variable\n",
    "\n",
    "Functions like `type()` take an input and return an output. That output can be \"captured\" by a variable using the assignment operator. Use `type()` to determine the data type of `answer2`. Assign the result to `answer4` and print it out."
   ]
  },
  {
   "cell_type": "code",
   "execution_count": 33,
   "metadata": {},
   "outputs": [
    {
     "name": "stdout",
     "output_type": "stream",
     "text": [
      "<class 'int'>\n"
     ]
    }
   ],
   "source": [
    "answer4 = type(answer2)\n",
    "print(answer4)"
   ]
  },
  {
   "cell_type": "code",
   "execution_count": 34,
   "metadata": {},
   "outputs": [],
   "source": [
    "# End of ACTIVITY 1"
   ]
  },
  {
   "cell_type": "markdown",
   "metadata": {},
   "source": [
    "# 4. Key variable type: lists\n",
    "\n",
    "A list is defined by square brackets and contains an ordered set of elements. A list can be *initialized* (created) as an empty list, like this: `[]`, or with values inside, like this: `[2,\"cat\",True]`."
   ]
  },
  {
   "cell_type": "code",
   "execution_count": 35,
   "metadata": {},
   "outputs": [],
   "source": [
    "# A list of floats - say four measurements from an experiment.\n",
    "\n",
    "experiment1 = [10.2, 11.1, 11.0, 9.5]"
   ]
  },
  {
   "cell_type": "markdown",
   "metadata": {},
   "source": [
    "You have a list. Now what? Here are some things you can do with lists:"
   ]
  },
  {
   "cell_type": "code",
   "execution_count": 36,
   "metadata": {},
   "outputs": [
    {
     "data": {
      "text/plain": [
       "4"
      ]
     },
     "execution_count": 36,
     "metadata": {},
     "output_type": "execute_result"
    }
   ],
   "source": [
    "# How many items are in the list? Use the length function len() to find out.\n",
    "\n",
    "len(experiment1)"
   ]
  },
  {
   "cell_type": "code",
   "execution_count": 37,
   "metadata": {},
   "outputs": [
    {
     "data": {
      "text/plain": [
       "11.0"
      ]
     },
     "execution_count": 37,
     "metadata": {},
     "output_type": "execute_result"
    }
   ],
   "source": [
    "# Access individual values in a list using indexing. Remember, lists are ordered!\n",
    "# COMPUTER SCIENTISTS BEGIN COUNTING FROM 0\n",
    "# Rerun this cell a few times with different position values.\n",
    "\n",
    "experiment1[2]"
   ]
  },
  {
   "cell_type": "code",
   "execution_count": 38,
   "metadata": {},
   "outputs": [
    {
     "ename": "IndexError",
     "evalue": "list index out of range",
     "output_type": "error",
     "traceback": [
      "\u001b[0;31m---------------------------------------------------------------------------\u001b[0m",
      "\u001b[0;31mIndexError\u001b[0m                                Traceback (most recent call last)",
      "\u001b[0;32m<ipython-input-38-20a90db38d8d>\u001b[0m in \u001b[0;36m<module>\u001b[0;34m\u001b[0m\n\u001b[0;32m----> 1\u001b[0;31m \u001b[0mexperiment1\u001b[0m\u001b[0;34m[\u001b[0m\u001b[0;36m5\u001b[0m\u001b[0;34m]\u001b[0m \u001b[0;31m# FAIL\u001b[0m\u001b[0;34m\u001b[0m\u001b[0;34m\u001b[0m\u001b[0m\n\u001b[0m",
      "\u001b[0;31mIndexError\u001b[0m: list index out of range"
     ]
    }
   ],
   "source": [
    "experiment1[5] # FAIL"
   ]
  },
  {
   "cell_type": "code",
   "execution_count": 39,
   "metadata": {},
   "outputs": [
    {
     "data": {
      "text/plain": [
       "9.5"
      ]
     },
     "execution_count": 39,
     "metadata": {},
     "output_type": "execute_result"
    }
   ],
   "source": [
    "# Access the last element in the list by counting backwards from the end.\n",
    "\n",
    "experiment1[-1]"
   ]
  },
  {
   "cell_type": "code",
   "execution_count": 40,
   "metadata": {},
   "outputs": [
    {
     "name": "stdout",
     "output_type": "stream",
     "text": [
      "[10.2, 11.1, 11.0, 9.5]\n"
     ]
    },
    {
     "data": {
      "text/plain": [
       "[11.1, 11.0]"
      ]
     },
     "execution_count": 40,
     "metadata": {},
     "output_type": "execute_result"
    }
   ],
   "source": [
    "# Extract a range of positions. This is called a \"slice\".\n",
    "# To take a slice, the first number is the start position, the second is the *last position plus one*:\n",
    "\n",
    "print(experiment1)\n",
    "experiment1[1:3] # position 1 and 2"
   ]
  },
  {
   "cell_type": "code",
   "execution_count": 41,
   "metadata": {},
   "outputs": [
    {
     "data": {
      "text/plain": [
       "[10.2, 11.1, 11.0]"
      ]
     },
     "execution_count": 41,
     "metadata": {},
     "output_type": "execute_result"
    }
   ],
   "source": [
    "experiment1[:3] # position 0, 1, and 2"
   ]
  },
  {
   "cell_type": "code",
   "execution_count": 42,
   "metadata": {},
   "outputs": [
    {
     "name": "stdout",
     "output_type": "stream",
     "text": [
      "[10.2, 11.1, 11.0, 9.5]\n"
     ]
    },
    {
     "data": {
      "text/plain": [
       "[9.5, 11.0, 11.1, 10.2]"
      ]
     },
     "execution_count": 42,
     "metadata": {},
     "output_type": "execute_result"
    }
   ],
   "source": [
    "print(experiment1)\n",
    "experiment1[::-1] # wait, what? use this funky syntax to reverse the order of the list"
   ]
  },
  {
   "cell_type": "code",
   "execution_count": 43,
   "metadata": {},
   "outputs": [
    {
     "name": "stdout",
     "output_type": "stream",
     "text": [
      "[10.2, 11.1, 11.0, 9.5]\n",
      "[10.2, 11.3, 11.0, 9.5]\n"
     ]
    }
   ],
   "source": [
    "# You can change what's inside a list (lists are *mutable*).\n",
    "# Replace values in a list using indexing.\n",
    "\n",
    "print(experiment1)\n",
    "experiment1[1] = 11.3\n",
    "print(experiment1)"
   ]
  },
  {
   "cell_type": "code",
   "execution_count": 44,
   "metadata": {},
   "outputs": [
    {
     "data": {
      "text/plain": [
       "True"
      ]
     },
     "execution_count": 44,
     "metadata": {},
     "output_type": "execute_result"
    }
   ],
   "source": [
    "# Test for membership in a list with 'in'\n",
    "\n",
    "11.3 in experiment1"
   ]
  },
  {
   "cell_type": "code",
   "execution_count": 45,
   "metadata": {},
   "outputs": [
    {
     "name": "stdout",
     "output_type": "stream",
     "text": [
      "[10.2, 11.3, 11.0, 9.5]\n",
      "[10.2, 11.3, 11.0, 9.5, 10.6]\n"
     ]
    }
   ],
   "source": [
    "# Add items to a list using append() - note the dot notation as we use this function.\n",
    "\n",
    "print(experiment1)\n",
    "experiment1.append(10.6)\n",
    "print(experiment1)"
   ]
  },
  {
   "cell_type": "code",
   "execution_count": 46,
   "metadata": {},
   "outputs": [
    {
     "data": {
      "text/plain": [
       "3"
      ]
     },
     "execution_count": 46,
     "metadata": {},
     "output_type": "execute_result"
    }
   ],
   "source": [
    "# Very useful function - count occurrences of a value\n",
    "\n",
    "count_data = [0,1,4,2,4,0,0,2,6,3]\n",
    "count_data.count(0) # how many zeros in our data?"
   ]
  },
  {
   "cell_type": "code",
   "execution_count": 47,
   "metadata": {},
   "outputs": [
    {
     "name": "stdout",
     "output_type": "stream",
     "text": [
      "[10.2, 11.3, 11.0, 9.5, 10.6]\n",
      "[9.8, 12.1, 11.0, 10.3, 12.0]\n",
      "[10.2, 11.3, 11.0, 9.5, 10.6, 9.8, 12.1, 11.0, 10.3, 12.0]\n"
     ]
    }
   ],
   "source": [
    "# Math operators have a meaning with lists too - concatenate\n",
    "\n",
    "experiment2 = [9.8, 12.1, 11.0, 10.3, 12.0]\n",
    "\n",
    "print(experiment1)\n",
    "print(experiment2)\n",
    "experiments = experiment1 + experiment2\n",
    "print(experiments)"
   ]
  },
  {
   "cell_type": "markdown",
   "metadata": {},
   "source": [
    "# For loops\n",
    "\n",
    "For loops are a common structure in computer code.\n",
    "One example of when to use a for loop is when we want to run a few lines of code on every element in a list.\n",
    "So, we say `for each_thing in my_list, do SOMETHING`:\n",
    "\n",
    "```python\n",
    "for each_thing in my_list:\n",
    "    do something with the value of each_thing\n",
    "    keep doing more stuff, whatever\n",
    "    (then move on to the next thing in the list)\n",
    "```\n",
    "\n",
    "^^ Notice how the body of the for loop is indented four spaces. For loop gets four spaces - get it? - that's not on purpose but you can remember it that way."
   ]
  },
  {
   "cell_type": "code",
   "execution_count": 48,
   "metadata": {},
   "outputs": [
    {
     "name": "stdout",
     "output_type": "stream",
     "text": [
      "[10.2, 11.3, 11.0, 9.5, 10.6, 9.8, 12.1, 11.0, 10.3, 12.0]\n",
      "10.2\n",
      "11.3\n",
      "11.0\n",
      "9.5\n",
      "10.6\n",
      "9.8\n",
      "12.1\n",
      "11.0\n",
      "10.3\n",
      "12.0\n"
     ]
    }
   ],
   "source": [
    "print(experiments)\n",
    "\n",
    "# Now access each item in the list one at a time and print it out\n",
    "for data_point in experiments:\n",
    "    print(data_point)"
   ]
  },
  {
   "cell_type": "code",
   "execution_count": 49,
   "metadata": {},
   "outputs": [
    {
     "name": "stdout",
     "output_type": "stream",
     "text": [
      "1\n",
      "4\n",
      "9\n",
      "16\n",
      "25\n"
     ]
    }
   ],
   "source": [
    "for x in [1,2,3,4,5]:\n",
    "    print(x**2)"
   ]
  },
  {
   "cell_type": "code",
   "execution_count": 50,
   "metadata": {},
   "outputs": [
    {
     "name": "stdout",
     "output_type": "stream",
     "text": [
      "107.8\n",
      "10\n",
      "10.78\n"
     ]
    }
   ],
   "source": [
    "# Example of a for loop\n",
    "\n",
    "total = 0\n",
    "for i in experiments:\n",
    "    total = total + i\n",
    "print(total) # the total sum of experiments\n",
    "print(len(experiments)) # the number of observations in experiments\n",
    "print(total/len(experiments)) # the mean value of experiments"
   ]
  },
  {
   "cell_type": "markdown",
   "metadata": {},
   "source": [
    "## Range function\n",
    "The `range()` function lets for loop iterate for a fixed number of times. \n",
    "\n",
    "`range(a,b)` represents numbers `[a, a+1, ... , b-1]`.\n",
    "\n",
    "`range(b)` represents numbers `[0, 1, ... , b-1]`."
   ]
  },
  {
   "cell_type": "code",
   "execution_count": 51,
   "metadata": {},
   "outputs": [
    {
     "name": "stdout",
     "output_type": "stream",
     "text": [
      "3\n",
      "4\n",
      "5\n",
      "6\n",
      "7\n",
      "8\n",
      "9\n"
     ]
    }
   ],
   "source": [
    "for n in range(3,10):\n",
    "    print(n)"
   ]
  },
  {
   "cell_type": "code",
   "execution_count": 52,
   "metadata": {},
   "outputs": [
    {
     "name": "stdout",
     "output_type": "stream",
     "text": [
      "[10.2, 11.3, 11.0, 9.5, 10.6, 9.8, 12.1, 11.0, 10.3, 12.0]\n",
      "10.2\n",
      "11.3\n",
      "11.0\n",
      "9.5\n",
      "10.6\n",
      "9.8\n",
      "12.1\n",
      "11.0\n",
      "10.3\n",
      "12.0\n"
     ]
    }
   ],
   "source": [
    "print(experiments)\n",
    "for n in range(len(experiments)):\n",
    "    print(experiments[n])"
   ]
  },
  {
   "cell_type": "markdown",
   "metadata": {},
   "source": [
    "# ACTIVITY 2: Lists and for loops\n",
    "\n",
    "## Problem 2.1: Putting data into lists.\n",
    "\n",
    "We're going to walk though an example of how to use lists to process some experimental data. Imagine that you performed a two-color luciferase reporter gene experiment. In the red channel, you measured the activity of a reporter gene under six different drug concentrations. In the green channel, you measured the expression of your control reporter at each drug concentration. Below are the results:\n",
    "\n",
    "**Red:** 23, 145, 203, 235, 354, 456\n",
    "\n",
    "**Green:** 5, 11, 6, 9, 8, 4\n",
    "\n",
    "In the cell below, create two lists with these values - one called `red`, the other called `green`. "
   ]
  },
  {
   "cell_type": "code",
   "execution_count": 53,
   "metadata": {},
   "outputs": [],
   "source": [
    "red = [23, 145, 203, 235, 354, 456]\n",
    "green = [5, 11, 6, 9, 8, 4]"
   ]
  },
  {
   "cell_type": "markdown",
   "metadata": {},
   "source": [
    "## Problem 2.2: Write a for loop to print all values of the list red.\n",
    "\n",
    "Print each value from the `red` list using a for loop."
   ]
  },
  {
   "cell_type": "code",
   "execution_count": 54,
   "metadata": {},
   "outputs": [
    {
     "name": "stdout",
     "output_type": "stream",
     "text": [
      "23\n",
      "145\n",
      "203\n",
      "235\n",
      "354\n",
      "456\n"
     ]
    }
   ],
   "source": [
    "for x in red:\n",
    "    print(x)"
   ]
  },
  {
   "cell_type": "markdown",
   "metadata": {},
   "source": [
    "## Problem 2.3: Create an empty list to hold normalized values\n",
    "\n",
    "In the cell below create a blank list called `normalized` by assigning an empty list `[]` to it.\n",
    "Later, we will use a `for` loop add values to this empty list using the `.append()` function.\n",
    "This empty list **must** be defined before we start our for loop. We create it first, and then add to it each time we move through the for loop."
   ]
  },
  {
   "cell_type": "code",
   "execution_count": 59,
   "metadata": {},
   "outputs": [],
   "source": [
    "# Create the empty list [] and assign it (=) to a variable called \"normalized\"\n",
    "normalized = []"
   ]
  },
  {
   "cell_type": "markdown",
   "metadata": {},
   "source": [
    "## Problem 2.4: Write a for loop to normalize red values by green\n",
    "\n",
    "We want to use python to normalize the red values by the green values. For each sample, we will divide the red value by the green value, then assign the answer to the next position in a list called `normalized`.\n",
    "\n",
    "Hint:\n",
    "1. Write a for loop that goes over the range (`range()`) of the length (`len()`) of the red list (same length as the green list).\n",
    "2. Use the index of the for loop to get values from the red and green lists.\n",
    "3. Then divide the red value by the green value, then append (`append()`) that ratio to the list `normalized`.\n",
    "\n",
    "But first, read through this code and think how you can use this structure to solve the problem."
   ]
  },
  {
   "cell_type": "code",
   "execution_count": 60,
   "metadata": {
    "scrolled": true
   },
   "outputs": [
    {
     "name": "stdout",
     "output_type": "stream",
     "text": [
      "23\n",
      "145\n",
      "203\n",
      "235\n",
      "354\n",
      "456\n"
     ]
    }
   ],
   "source": [
    "n_obs = len(red) # the length of the red list, aka the number of observations in our experiment\n",
    "\n",
    "for x in range(n_obs): # for each value in the range [0, 1, ..., n_obs -1]\n",
    "    print(red[x]) # print the red value corresponding to the index value x"
   ]
  },
  {
   "cell_type": "markdown",
   "metadata": {},
   "source": [
    "Now use that structure to solve the problem!"
   ]
  },
  {
   "cell_type": "code",
   "execution_count": 61,
   "metadata": {},
   "outputs": [
    {
     "name": "stdout",
     "output_type": "stream",
     "text": [
      "[4.6, 13.181818181818182, 33.833333333333336, 26.11111111111111, 44.25, 114.0]\n"
     ]
    }
   ],
   "source": [
    "normalized = [] # useful to redefine this as an empty list every time\n",
    "\n",
    "n_obs = len(red)\n",
    "\n",
    "for x in range(n_obs):\n",
    "    normalized.append(red[x]/green[x])\n",
    "\n",
    "print(normalized)"
   ]
  },
  {
   "cell_type": "code",
   "execution_count": 36,
   "metadata": {},
   "outputs": [],
   "source": [
    "# End of ACTIVITY 2"
   ]
  },
  {
   "cell_type": "code",
   "execution_count": null,
   "metadata": {},
   "outputs": [],
   "source": []
  }
 ],
 "metadata": {
  "kernelspec": {
   "display_name": "Python 3.9.5 - rstudio",
   "language": "python",
   "name": "rstudio-user-3.9.5"
  },
  "language_info": {
   "codemirror_mode": {
    "name": "ipython",
    "version": 3
   },
   "file_extension": ".py",
   "mimetype": "text/x-python",
   "name": "python",
   "nbconvert_exporter": "python",
   "pygments_lexer": "ipython3",
   "version": "3.9.5"
  }
 },
 "nbformat": 4,
 "nbformat_minor": 4
}
