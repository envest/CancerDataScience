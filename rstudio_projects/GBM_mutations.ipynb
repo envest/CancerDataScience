{
 "cells": [
  {
   "cell_type": "markdown",
   "id": "29a6b97e",
   "metadata": {},
   "source": [
    "# MC3\n",
    "\n",
    "The TCGA project brought together over 10,000 patients from 33 cancer types. Lots of different research labs contributed to the effort -- but one collaboration in particular sought to unify all the mutation calling to create one comprehensive data set. Enter: MC3.\n",
    "\n",
    "The name MC3 comes from: Multi-Center Mutation Calling in Multiple Cancers\n",
    "\n",
    "**Citation:** Ellrott, K. et al. Scalable Open Science Approach for Mutation Calling of Tumor Exomes Using Multiple Genomic Pipelines. Cell Systems 6, 271–281.e7 (2018)\n",
    "\n",
    "**Website:** https://doi.org/10.1016/j.cels.2018.03.002\n",
    "\n",
    "MC3 is a huge data set, and I'm not sure how rstudio.cloud would handle it. I've selected samples from a single cancer type: glioblastoma. We want to use MC3 to identify what genes are mutated in GBM and how often they are mutated.\n",
    "\n",
    "The whole MC3 file comprises 3,600,963 mutations. The subset of GBM samples is only 69,137 mutations, or 1.9%. Processing a file line by line is one of the strengths of python -- we only need to hold one line of data in memory at a time, not the whole file like with R.\n",
    "\n",
    "Here's a peek at the data set we are working with (`data/test_mutations.tsv`). The entire GBM data set is `data/gbm_mutations.tsv`.\n"
   ]
  },
  {
   "cell_type": "markdown",
   "id": "326cf283",
   "metadata": {},
   "source": [
    "| tcga_id | cancer_type | Tumor_Sample_Barcode | Gene | Chromosome | Start_Position | Variant_Classification |\n",
    "| --- | --- | --- | --- | --- | --- | --- |\n",
    "| TCGA-06-0185-01 | GBM | TCGA-06-0185-01A-01D-1491-08 | LRRC55 | 11 | 56949722 | Missense_Mutation |\n",
    "| TCGA-06-5416-01 | GBM | TCGA-06-5416-01A-01D-1486-08 | ARSB | 5 | 78181606 | Nonsense_Mutation |\n",
    "| TCGA-28-1751-01 | GBM | TCGA-28-1751-01A-02W-0643-08 | OR4K14 | 14 | 20483102 | Missense_Mutation |\n",
    "| TCGA-14-0812-01 | GBM | TCGA-14-0812-01B-01W-0643-08 | AADACL3 | 1 | 12780908 | Missense_Mutation |\n",
    "| TCGA-19-5956-01 | GBM | TCGA-19-5956-01A-11D-1696-08 | CHGB | 20 | 5904096 | Nonsense_Mutation |\n",
    "| TCGA-19-1388-01 | GBM | TCGA-19-1388-01A-01W-0643-08 | SETD8 | 12 | 123880952 | Silent |\n",
    "| TCGA-06-5416-01 | GBM | TCGA-06-5416-01A-01D-1486-08 | PRDM15 | 21 | 43242321 | Missense_Mutation |\n",
    "| TCGA-12-3646-01 | GBM | TCGA-12-3646-01A-01W-0922-08 | LINGO2 | 9 | 27949327 | Missense_Mutation |\n",
    "| TCGA-12-3652-01 | GBM | TCGA-12-3652-01A-01D-1495-08 | FKBP8 | 19 | 18649190 | Missense_Mutation |\n",
    "| TCGA-19-5956-01 | GBM | TCGA-19-5956-01A-11D-1696-08 | CD209 | 19 | 7810925 | Missense_Mutation |\n",
    "| TCGA-32-1991-01 | GBM | TCGA-32-1991-01A-01D-1353-08 | OR8G1 | 11 | 124120491 | Silent |\n",
    "| TCGA-14-0866-01 | GBM | TCGA-14-0866-01B-01W-0643-08 | FZD1 | 7 | 90895283 | Missense_Mutation |\n",
    "| TCGA-28-1760-01 | GBM | TCGA-28-1760-01A-01W-0643-08 | MYOZ1 | 10 | 75391768 | Missense_Mutation |\n",
    "| TCGA-06-5858-01 | GBM | TCGA-06-5858-01A-01D-1696-08 | NEMF | 14 | 50267402 | Missense_Mutation |\n",
    "| TCGA-06-5416-01 | GBM | TCGA-06-5416-01A-01D-1486-08 | VWA3A | 16 | 22134405 | Splice_Site |\n",
    "| TCGA-06-5416-01 | GBM | TCGA-06-5416-01A-01D-1486-08 | GPR179 | 17 | 36483260 | Missense_Mutation |\n",
    "| TCGA-06-2566-01 | GBM | TCGA-06-2566-01A-01W-0837-08 | MCL1 | 1 | 150551355 | Missense_Mutation |\n",
    "| TCGA-87-5896-01 | GBM | TCGA-87-5896-01A-01D-1696-08 | F9 | X | 138643011 | Missense_Mutation |\n",
    "| TCGA-32-2616-01 | GBM | TCGA-32-2616-01A-01D-1495-08 | VWA3A | 16 | 22134956 | Missense_Mutation |\n",
    "| TCGA-06-2566-01 | GBM | TCGA-06-2566-01A-01W-0837-08 | GNA12 | 7 | 2770753 | 3'UTR |"
   ]
  },
  {
   "cell_type": "markdown",
   "id": "95efc537",
   "metadata": {},
   "source": [
    "### Grading rubric:\n",
    "There are five tasks for you to complete below. How many did you attempt? How many did you seek help for when you got stuck? I need to see the code in order to know you tried, so type it out and I know what you were thinking!"
   ]
  },
  {
   "cell_type": "markdown",
   "id": "00c85426",
   "metadata": {},
   "source": [
    "### Tools in your toolbox:\n",
    "\n",
    "- Open a file with\n",
    "```python\n",
    "file_variable_name = open(\"path/to_data.tsv\", \"r\")\n",
    "```\n",
    "- Close a file with\n",
    "```python\n",
    "file_variable_name.close()\n",
    "```\n",
    "- Read a single line of a file with\n",
    "```python\n",
    "file_variable_name.readline()\n",
    "```\n",
    "- Iterate over each line in a file with\n",
    "```python\n",
    "for line in file_variable_name:\n",
    "    do something\n",
    "```\n",
    "- Remove whitespace and split up a line by tabs with\n",
    "```\n",
    "stripped_and_split = line.strip().split(\"\\t\") # stripped_and_split is a list\n",
    "```\n",
    "- Access the value in the nth position of a list with\n",
    "```\n",
    "new_variable = stripped_and_split[n] # remember to start counting at 0\n",
    "```\n",
    "- Print the value of a variable to the screen\n",
    "```python\n",
    "print(new_variable)\n",
    "```\n",
    "- Intilize a new, empty dictionary with\n",
    "```python\n",
    "new_dictionary = {}\n",
    "```\n",
    "- Check if a key is already in a dictionary with\n",
    "```python\n",
    "if my_key in new_dictionary:\n",
    "    do something\n",
    "else\n",
    "    do something else\n",
    "```\n",
    "- Add a key to a dictionary\n",
    "```python\n",
    "new_dictionary[my_key] = 1 # for example, if you're keeping count, start with a value of 1\n",
    "```\n",
    "- Update a value in a dictionary\n",
    "```python\n",
    "new_dictionary[my_key] = new_value\n",
    "```\n",
    "or\n",
    "```python\n",
    "new_dictionary[my_key] += 1 # this adds one to the current value\n",
    "```\n",
    "- Access the key and value pairs of a dictionary in a for loop\n",
    "```python\n",
    "for k,v in new_dictionary.items():\n",
    "    # k means key\n",
    "    # v means value\n",
    "    do something with k and v together!\n",
    "```\n",
    "- Check if a number is greater than, less than, equal to, etc. with\n",
    "```python\n",
    "if my_number > 100:\n",
    "    do something\n",
    "    # use >= for greater than or equal\n",
    "    # use < or <= for less than / less than or equal to\n",
    "    # use == for equal to\n",
    "```\n",
    "- Remember to indent four spaces inside `for` loops and `if` statements"
   ]
  },
  {
   "cell_type": "markdown",
   "id": "f8876f82",
   "metadata": {},
   "source": [
    "## Your task:\n",
    "\n",
    "We need to open up the mutations file, read through each line, and keep track of the number of times we see each gene. One line corresponds to one mutation, so count every line. There is a header line with column names which we want to skip over. Follow each step below:"
   ]
  },
  {
   "cell_type": "markdown",
   "id": "ba90b656",
   "metadata": {},
   "source": [
    "1. Open the mutations files (`data/gbm_mutations.tsv`), or first test with `data/test_mutations.tsv`"
   ]
  },
  {
   "cell_type": "code",
   "execution_count": 1,
   "id": "36811c95",
   "metadata": {},
   "outputs": [],
   "source": [
    "file = open(\"data/gbm_mutations.tsv\", \"r\")"
   ]
  },
  {
   "cell_type": "markdown",
   "id": "a11829a3",
   "metadata": {},
   "source": [
    "2. Use `.readline()` to remove the header line"
   ]
  },
  {
   "cell_type": "code",
   "execution_count": 2,
   "id": "1e6cd27d",
   "metadata": {},
   "outputs": [
    {
     "data": {
      "text/plain": [
       "'tcga_id\\tcancer_type\\tTumor_Sample_Barcode\\tHugo_Symbol\\tChromosome\\tStart_Position\\tVariant_Classification\\n'"
      ]
     },
     "execution_count": 2,
     "metadata": {},
     "output_type": "execute_result"
    }
   ],
   "source": [
    "file.readline()"
   ]
  },
  {
   "cell_type": "markdown",
   "id": "e955fa6e",
   "metadata": {},
   "source": [
    "3. Create an empty dictionary called genes_dictionary to store mutation counts and iterate over each remaining line of the file in a `for` loop\n",
    "  - Strip and split (by tabs `\\t`) each line to isolate the gene name from each mutation (what position is Gene?)\n",
    "  - Keep track of the number of mutations seen for each gene (hint: use a dictionary `genes_dictionary` with gene names as the key, and the number of mutations as the value, just add one each time you see a gene)\n",
    "  - Remember, if a gene has not been seen before, you need to add it to the dictionary with a value of 1"
   ]
  },
  {
   "cell_type": "code",
   "execution_count": 3,
   "id": "31555e1c",
   "metadata": {},
   "outputs": [],
   "source": [
    "genes_dictionary = {}\n",
    "\n",
    "for line in file:\n",
    "    stripped_and_split = line.strip().split(\"\\t\") # stripped_and_split is a list\n",
    "    gene = stripped_and_split[3] # remember to start counting at 0\n",
    "    \n",
    "    if gene in genes_dictionary:\n",
    "        genes_dictionary[gene] += 1\n",
    "    else:\n",
    "        genes_dictionary[gene] = 1"
   ]
  },
  {
   "cell_type": "markdown",
   "id": "e1221f2c",
   "metadata": {},
   "source": [
    "4. Print out any gene with greater than 100 mutations. You can check each gene and its value with `.items()` in a `for` loop."
   ]
  },
  {
   "cell_type": "code",
   "execution_count": 4,
   "id": "351287ec",
   "metadata": {},
   "outputs": [
    {
     "name": "stdout",
     "output_type": "stream",
     "text": [
      "TP53 147\n",
      "EGFR 130\n",
      "PTEN 136\n",
      "TTN 285\n",
      "MUC16 128\n"
     ]
    }
   ],
   "source": [
    "for k,v in genes_dictionary.items():\n",
    "    if v > 100:\n",
    "        print(k, v)"
   ]
  },
  {
   "cell_type": "markdown",
   "id": "fd548818",
   "metadata": {},
   "source": [
    "5. Close the file"
   ]
  },
  {
   "cell_type": "code",
   "execution_count": 5,
   "id": "77635a59",
   "metadata": {},
   "outputs": [],
   "source": [
    "file.close()"
   ]
  },
  {
   "cell_type": "code",
   "execution_count": 6,
   "id": "479f63d3",
   "metadata": {},
   "outputs": [],
   "source": [
    "# if everything worked, you should have 147 mutations for TP53\n",
    "assert genes_dictionary[\"TP53\"] == 147"
   ]
  },
  {
   "cell_type": "code",
   "execution_count": null,
   "id": "acd59d3e",
   "metadata": {},
   "outputs": [],
   "source": [
    "# END OF MC3 ACTIVITY!"
   ]
  },
  {
   "cell_type": "markdown",
   "id": "328d73cb",
   "metadata": {},
   "source": [
    "### Dig deeper: look up each of these top genes. Oncogenes or tumor suppressors?\n",
    "\n",
    "### Any reason to doubt any of them are actually cancer-related genes? hmm"
   ]
  },
  {
   "cell_type": "code",
   "execution_count": null,
   "id": "0143a7fd",
   "metadata": {},
   "outputs": [],
   "source": []
  }
 ],
 "metadata": {
  "kernelspec": {
   "display_name": "Python 3.9.5 - rstudio",
   "language": "python",
   "name": "rstudio-user-3.9.5"
  },
  "language_info": {
   "codemirror_mode": {
    "name": "ipython",
    "version": 3
   },
   "file_extension": ".py",
   "mimetype": "text/x-python",
   "name": "python",
   "nbconvert_exporter": "python",
   "pygments_lexer": "ipython3",
   "version": "3.9.5"
  }
 },
 "nbformat": 4,
 "nbformat_minor": 5
}
