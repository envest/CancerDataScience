{
 "cells": [
  {
   "cell_type": "markdown",
   "metadata": {},
   "source": [
    "All notes are based on notes produced by Mike White for WashU Bio 5075 Fundamentals of Biostatistics, a first year DBBS graduate student course."
   ]
  },
  {
   "cell_type": "markdown",
   "metadata": {},
   "source": [
    "# 1. More on for loops\n",
    "\n",
    "1. Computers are good for performing the same operation over and over, really quickly. For loops are central to this.\n",
    "\n",
    "2. For loops will be our main tool for working with data stored in lists. \n",
    "\n",
    "3. Example: You have a list of lncRNA gene lengths, and want to know how many are longer than 3 kb. With a for loop, you take each item in the list, one at a time, a count those that are longer than 3 kb.\n",
    "\n",
    "4. Another example: You have a table of data (or two lists) with the stop and start coordinates for genes. To calculate all gene lengths, you use a for loop to iterate over these lists, subtracting start from stop.\n",
    "\n",
    "5. Beware that for loops in Python work a little differently from some other programming languages. So pay attention to the syntax.\n",
    "\n",
    "6. For loops ITERATE over ITERABLE OBJECTS (list, string, range, etc.)\n",
    "\n",
    "## For loop syntax\n",
    "\n",
    "```python\n",
    "# my for loop\n",
    "for x in iterable_object:\n",
    "    do something with x\n",
    "    notice the indentation\n",
    "    \n",
    "# next section of code\n",
    "blah blah blah\n",
    "```"
   ]
  },
  {
   "cell_type": "code",
   "execution_count": 1,
   "metadata": {},
   "outputs": [
    {
     "name": "stdout",
     "output_type": "stream",
     "text": [
      "[1, 1, 2, 3, 5, 8, 13, 21, 34, 55, 89, 144, 233, 377, 610, 987, 1597, 2584, 4181, 6765]\n"
     ]
    },
    {
     "data": {
      "text/plain": [
       "1.6180339631667064"
      ]
     },
     "execution_count": 1,
     "metadata": {},
     "output_type": "execute_result"
    }
   ],
   "source": [
    "# The Fibonacci Series is constructed by adding\n",
    "# the previous two numbers to get the next number\n",
    "\n",
    "# The ratio of fib[n]/fib[n-1] approaches phi, a.k.a.\n",
    "# The Golden Ratio (1.6180339887498948482...)\n",
    "# as n increases to infinity\n",
    "\n",
    "n_fib = 20\n",
    "fib = [1, 1]\n",
    "phi = []\n",
    "\n",
    "for n in range(2, n_fib):\n",
    "    next_fib = fib[-2] + fib[-1]\n",
    "    fib.append(next_fib)\n",
    "    phi.append(fib[n]/fib[n-1])\n",
    "\n",
    "print(fib)\n",
    "phi[-1]"
   ]
  },
  {
   "cell_type": "markdown",
   "metadata": {},
   "source": [
    "## Looping over two lists\n",
    "\n",
    "Often you'll find yourself needing to work with two lists to calculate a result. \n",
    "\n",
    "Suppose we measured the time of 5 mice running on a wheel before and after the administration of a drug. We want to calculate the difference in time on the wheel. So subtract one value from another. Easy to do it with a calculator here, but the same principle applies to a dataset with 1 million points. Computers don't really care if it's ten points or a million."
   ]
  },
  {
   "cell_type": "code",
   "execution_count": 2,
   "metadata": {},
   "outputs": [],
   "source": [
    "# Define lists\n",
    "# mice running on a wheel before and after a drug\n",
    "\n",
    "before = [0,23,34,15,21]\n",
    "after = [12,43,50,29,67]"
   ]
  },
  {
   "cell_type": "code",
   "execution_count": 3,
   "metadata": {},
   "outputs": [
    {
     "name": "stdout",
     "output_type": "stream",
     "text": [
      "12\n",
      "20\n",
      "16\n",
      "14\n",
      "46\n"
     ]
    }
   ],
   "source": [
    "# for loop iterates over two lists with indexing\n",
    "\n",
    "for i in range(len(before)):\n",
    "    difference = after[i] - before[i]\n",
    "    print(difference)"
   ]
  },
  {
   "cell_type": "code",
   "execution_count": 4,
   "metadata": {},
   "outputs": [
    {
     "name": "stdout",
     "output_type": "stream",
     "text": [
      "12\n",
      "20\n",
      "16\n",
      "14\n",
      "46\n"
     ]
    }
   ],
   "source": [
    "# A more pythonic way to iterate over two lists with zip()\n",
    "\n",
    "for a, b in zip(after, before):\n",
    "    difference = a - b\n",
    "    print(difference)"
   ]
  },
  {
   "cell_type": "code",
   "execution_count": 5,
   "metadata": {},
   "outputs": [
    {
     "name": "stdout",
     "output_type": "stream",
     "text": [
      "[12, 20, 16, 14, 46]\n"
     ]
    }
   ],
   "source": [
    "# Example of how to calculate the list of differences\n",
    "# Notice indentation, which lines are not in the block\n",
    "\n",
    "differences = []\n",
    "\n",
    "for a, b in zip(after, before):\n",
    "    difference = a - b\n",
    "    differences.append(difference)\n",
    "\n",
    "print(differences)"
   ]
  },
  {
   "cell_type": "markdown",
   "metadata": {},
   "source": [
    "### Functions to convert data types\n",
    "\n",
    "You'll see why in a minute, but what happens if the data in your lists are in the wrong format?"
   ]
  },
  {
   "cell_type": "code",
   "execution_count": 6,
   "metadata": {},
   "outputs": [],
   "source": [
    "before = ['0', '23', '34']\n",
    "after = ['12', '43', '50']"
   ]
  },
  {
   "cell_type": "code",
   "execution_count": 7,
   "metadata": {},
   "outputs": [
    {
     "name": "stdout",
     "output_type": "stream",
     "text": [
      "12.0\n",
      "20.0\n",
      "16.0\n"
     ]
    }
   ],
   "source": [
    "for a, b in zip(after, before):\n",
    "    difference = float(a) - float(b)\n",
    "    print(difference)"
   ]
  },
  {
   "cell_type": "code",
   "execution_count": 8,
   "metadata": {},
   "outputs": [
    {
     "name": "stdout",
     "output_type": "stream",
     "text": [
      "<class 'str'> <class 'int'>\n"
     ]
    }
   ],
   "source": [
    "n = '1'\n",
    "m = int(n)\n",
    "print(type(n), type(m))"
   ]
  },
  {
   "cell_type": "markdown",
   "metadata": {},
   "source": [
    "## Recap: Fundamental Python Syntax So Far\n",
    "\n",
    "1. Variables and data types\n",
    "2. Lists - store multiple values\n",
    "3. For loops"
   ]
  },
  {
   "cell_type": "markdown",
   "metadata": {},
   "source": [
    "# 2. Conditional statements\n",
    "\n",
    "Next piece of key Python syntax: conditional statements.\n",
    "\n",
    "How to make decisions in code:\n",
    "\n",
    "\"If this is true, do this. Else, do this other thing.\"\n",
    "\n",
    "If statements, like for loops, end with a colon and are followed by an indented block. \n",
    "\n",
    "## Major conditional statement options\n",
    "### Anything that returns a boolean value\n",
    "```python\n",
    "x < y\n",
    "x > y\n",
    "x <= y\n",
    "x >= y\n",
    "x == y\n",
    "x != y\n",
    "```\n",
    "```python\n",
    "x in [a, b, c, d, x]\n",
    "x not in [a, b, c, d, x]\n",
    "```\n",
    "```python\n",
    "x < y and x > z\n",
    "x < y or x > z\n",
    "```\n",
    "```python\n",
    "x.startswith(\"#\")\n",
    "```"
   ]
  },
  {
   "cell_type": "code",
   "execution_count": 9,
   "metadata": {},
   "outputs": [
    {
     "data": {
      "text/plain": [
       "True"
      ]
     },
     "execution_count": 9,
     "metadata": {},
     "output_type": "execute_result"
    }
   ],
   "source": [
    "x = 100\n",
    "x > 10"
   ]
  },
  {
   "cell_type": "code",
   "execution_count": 10,
   "metadata": {},
   "outputs": [
    {
     "name": "stdout",
     "output_type": "stream",
     "text": [
      "My experiment worked\n"
     ]
    }
   ],
   "source": [
    "if x > 10:\n",
    "    print('My experiment worked')"
   ]
  },
  {
   "cell_type": "code",
   "execution_count": 11,
   "metadata": {},
   "outputs": [
    {
     "name": "stdout",
     "output_type": "stream",
     "text": [
      "Okay np\n",
      "hi\n"
     ]
    }
   ],
   "source": [
    "if x > 1000:\n",
    "    print('Whoa too much')\n",
    "else:\n",
    "    print('Okay np')\n",
    "\n",
    "# next part of code\n",
    "print(\"hi\")"
   ]
  },
  {
   "cell_type": "code",
   "execution_count": 12,
   "metadata": {},
   "outputs": [
    {
     "name": "stdout",
     "output_type": "stream",
     "text": [
      "Our results were not enriched for miRNA...\n"
     ]
    }
   ],
   "source": [
    "enriched_classes = ['tRNA', 'mRNA', 'lncRNA']\n",
    "\n",
    "if 'miRNA' in enriched_classes:\n",
    "    print('Our results were enriched for miRNA!')\n",
    "else:\n",
    "    print('Our results were not enriched for miRNA...')"
   ]
  },
  {
   "cell_type": "code",
   "execution_count": 13,
   "metadata": {},
   "outputs": [
    {
     "name": "stdout",
     "output_type": "stream",
     "text": [
      "Max is between 0 and 15.\n"
     ]
    }
   ],
   "source": [
    "my_values = [3.3, 5.8 , 7.6, 9.1, 11.3]\n",
    "\n",
    "if max(my_values) > 15:\n",
    "    print('Max is really high!')\n",
    "elif max(my_values) < 0:\n",
    "    print('Max is really low!')\n",
    "else:\n",
    "    print('Max is between 0 and 15.')"
   ]
  },
  {
   "cell_type": "markdown",
   "metadata": {},
   "source": [
    "# 3. ACTIVITY 1"
   ]
  },
  {
   "cell_type": "markdown",
   "metadata": {},
   "source": [
    "In Part One, we normalized red and green values by dividing red/green. What if green = 0? We need to check for this condition before dividing by 0 and causing an error!\n",
    "\n",
    "**Red:** 23, 145, 203, 235, 354, 456, 17\n",
    "\n",
    "**Green:** 5, 11, 6, 9, 8, 4, 0\n",
    "\n",
    "## Write a for loop to normalize red values by green\n",
    "\n",
    "Use a for loop to normalize the red values by dividing them the green values. Try using `zip()` to zip together values from red and green, or use `range(len(red))` like before.\n",
    "\n",
    "In the cell below, create a empty list called `normalized`. Then write a `for` loop that iterates through both the red and green lists simultaneously.\n",
    "\n",
    "In the block of the `for` loop, write code to divide the red value by the green value, then append the result to `normalized`. But this time, check if the green value is zero before doing the division."
   ]
  },
  {
   "cell_type": "code",
   "execution_count": 16,
   "metadata": {},
   "outputs": [
    {
     "name": "stdout",
     "output_type": "stream",
     "text": [
      "[4.6, 13.181818181818182, 33.833333333333336, 26.11111111111111, 44.25, 114.0, 'NA']\n"
     ]
    }
   ],
   "source": [
    "# Create the lists red and green below\n",
    "red = [23, 145, 203, 235, 354, 456, 17]\n",
    "green = [5, 11, 6, 9, 8, 4, 0]\n",
    "\n",
    "# Create an empty list called normalized\n",
    "normalized = []\n",
    "\n",
    "# Write a for loop that iterates over the red and green lists\n",
    "# Zip together red and green to be more \"pythonic\"\n",
    "# Divide the red value by the green value and append it to normalized\n",
    "# Use a conditional statement to test if the value of green is 0\n",
    "# If the value of green is 0, the normalized result should be \"NA\"\n",
    "# Otherwise, calculate the normalized values as red divided by green\n",
    "\n",
    "for r, g in zip(red, green):\n",
    "    if g == 0:\n",
    "        normalized.append(\"NA\")\n",
    "    else:\n",
    "        normalized.append(r/g)\n",
    "        \n",
    "print(normalized)"
   ]
  },
  {
   "cell_type": "code",
   "execution_count": 15,
   "metadata": {},
   "outputs": [],
   "source": [
    "# End of Activity 1"
   ]
  },
  {
   "cell_type": "markdown",
   "metadata": {},
   "source": [
    "# 4. Basic Python tools to read in genomic data\n",
    "\n",
    "1. To work with real data, you need to load it into memory as a data object assigned to a python variable.\n",
    "2. We've covered the main Python syntax to do this - lists, variables, loops, conditionals.\n",
    "3. Now we will load in a table of genomic data and write code to import that data as a set of lists."
   ]
  },
  {
   "cell_type": "markdown",
   "metadata": {},
   "source": [
    "## Python reads in your data as strings\n",
    "\n",
    "When you look at a text file, you see:\n",
    "  \n",
    "`BRCA2   chr13   32314862    32400266    tumor_suppressor`\n",
    "\n",
    "These values correspond to the\n",
    "\n",
    "0. gene\n",
    "1. chromosome\n",
    "2. start\n",
    "3. stop\n",
    "4. type of gene\n",
    "\n",
    "Notice that each piece of information is separated by a tab and that there is a new line at the end."
   ]
  },
  {
   "cell_type": "code",
   "execution_count": 17,
   "metadata": {},
   "outputs": [
    {
     "name": "stdout",
     "output_type": "stream",
     "text": [
      "BRCA2\tchr13\t32314862\t32400266\ttumor_suppressor\n",
      "\n"
     ]
    }
   ],
   "source": [
    "# Python sees whitespace characters for tab \\t and new line \\n\n",
    "line = 'BRCA2\\tchr13\\t32314862\\t32400266\\ttumor_suppressor\\n'\n",
    "print(line)"
   ]
  },
  {
   "cell_type": "markdown",
   "metadata": {},
   "source": [
    "To work with each piece of information, we need to separate each part by removing the whitespace."
   ]
  },
  {
   "cell_type": "code",
   "execution_count": 18,
   "metadata": {},
   "outputs": [
    {
     "data": {
      "text/plain": [
       "'BRCA2\\tchr13\\t32314862\\t32400266\\ttumor_suppressor'"
      ]
     },
     "execution_count": 18,
     "metadata": {},
     "output_type": "execute_result"
    }
   ],
   "source": [
    "# Remove trailing newline, but does NOT change original variable!\n",
    "line.strip()"
   ]
  },
  {
   "cell_type": "code",
   "execution_count": 19,
   "metadata": {},
   "outputs": [
    {
     "data": {
      "text/plain": [
       "'BRCA2\\tchr13\\t32314862\\t32400266\\ttumor_suppressor'"
      ]
     },
     "execution_count": 19,
     "metadata": {},
     "output_type": "execute_result"
    }
   ],
   "source": [
    "# Assign output of strip() to new variable\n",
    "stripped = line.strip()\n",
    "stripped"
   ]
  },
  {
   "cell_type": "code",
   "execution_count": 20,
   "metadata": {},
   "outputs": [
    {
     "data": {
      "text/plain": [
       "['BRCA2', 'chr13', '32314862', '32400266', 'tumor_suppressor']"
      ]
     },
     "execution_count": 20,
     "metadata": {},
     "output_type": "execute_result"
    }
   ],
   "source": [
    "# Output of split() is a list of strings\n",
    "\n",
    "split = stripped.split('\\t') # split string by tabs\n",
    "split"
   ]
  },
  {
   "cell_type": "markdown",
   "metadata": {},
   "source": [
    "Common types of whitespace:\n",
    "- Space ` `: `my_string.split(' ')`\n",
    "- Tab `\\t`: `my_string.split('\\t')`\n",
    "- Comma \",\" (okay, not whitespace): `my_string.split(',')`"
   ]
  },
  {
   "cell_type": "code",
   "execution_count": 21,
   "metadata": {},
   "outputs": [
    {
     "data": {
      "text/plain": [
       "[32400266]"
      ]
     },
     "execution_count": 21,
     "metadata": {},
     "output_type": "execute_result"
    }
   ],
   "source": [
    "# After split(), assign data to the correct list\n",
    "# Don't forget to convert to correct data types\n",
    "\n",
    "starts = []\n",
    "\n",
    "starts.append(int(split[3]))\n",
    "starts"
   ]
  },
  {
   "cell_type": "markdown",
   "metadata": {},
   "source": [
    "# 5.  ACTIVITY 2: Read in data from a file\n",
    "\n",
    "To work with our table of human gene annotations, we have to load it into memory where it can be accessed in our Python session. To load the file requires the following steps:\n",
    "\n",
    "1. Open the file.\n",
    "2. Read in each line of the data\n",
    "3. Assign the data to a variable\n",
    "4. Close the file.\n",
    "\n",
    "In this activity, you will learn the commands for opening, reading, and closing files. You will use a **```for```** loop to read in the data one line at a time. Each line will be processed as demonstrated above, and the resulting values will be stored in lists.\n",
    "\n",
    "You've practiced with simple lists and for loops – now you'll see how useful they are for larger datasets. \n",
    "\n",
    "Before starting this activity, make sure the files ```gene_table.txt``` and ```test_table.txt``` are in your `data/` folder in the Jupyter dashboard.\n",
    "\n",
    "## Opening files\n",
    "To open a file, we use the `open()` function. This function creates a *file object*, which is in essence a connection between where the data exists and your Python session.\n",
    "\n",
    "The important idea is that *file objects, like strings, integers, lists, etc., can be assigned to a variable.* As you'll see, this lets you to work with file objects much like you work with other types of variables.\n",
    "\n",
    "### open()\n",
    "In this activity, you will write code to read data from files using the small `test_table.txt` file as an easy example. There are fewer lines in this table, so that if something goes wrong, it won't take over your screen.\n",
    "\n",
    "In the cell below, use `open()` to open the `data/test_table.txt` file and assign the resulting file object to the variable `test_file`. (We could use any valid variable name here - `test_file` is good because it's descriptive.)\n",
    "\n",
    "Type the following into the code cell below and run the cell:\n",
    "```python\n",
    "test_file = open('data/test_table.txt')\n",
    "```"
   ]
  },
  {
   "cell_type": "code",
   "execution_count": 22,
   "metadata": {},
   "outputs": [],
   "source": [
    "test_file = open('data/test_table.txt')"
   ]
  },
  {
   "cell_type": "markdown",
   "metadata": {},
   "source": [
    "Make sure you understand everything that happened in the previous line of code. The `open()` function took an argument – the file name – between the parentheses. Why do you think the arguement, `'test_table.txt'` is enclosed in quotes? What does this tell you about the *type* of valid values that can be used as arguments with the `open()` function?\n",
    "\n",
    "## Reading file data\n",
    "\n",
    "### .readline() and .read()\n",
    "Once we have an open connection to the file, the next step is to read the data. There are three ways to read lines from a file:\n",
    "\n",
    "1. Read one line: `test_file.readline()` (no argument between parentheses)\n",
    "2. Read all lines at once: `test_file.read()`\n",
    "3. Iterate over the file with a `for` loop\n",
    "\n",
    "(Why are there empty parentheses after `.readline()` and `.read()`? Answer: `.readline()` and `.read()` are functions, which always require parentheses - even when there are no arguments to put between them.)\n",
    "\n",
    "Here is what the data in `data/test_table.txt` looks like:\n",
    "```\n",
    "#name\ttxStart\ttxEnd\texonCount\n",
    "ENST00000371007.6\t67092164\t67231852\t8\n",
    "ENST00000371006.5\t67092175\t67127261\t6\n",
    "ENST00000475209.6\t67092175\t67127261\t7\n",
    "ENST00000621590.4\t67092396\t67127261\t3\n",
    "ENST00000263946.7\t201283451\t201332993\t15\n",
    "ENST00000367324.7\t201283451\t201332993\t14\n",
    "ENST00000622031.4\t201283511\t201330288\t17\n",
    "ENST00000352845.3\t201283702\t201328836\t14\n",
    "ENST00000337907.7\t8352396\t8817465\t24\n",
    "```\n",
    "\n",
    "These values correspond to the\n",
    "\n",
    "0. gene name\n",
    "2. start position\n",
    "3. stop position\n",
    "4. number of exons\n",
    "\n",
    "To read in a *one* line from the file, type this in the cell below:\n",
    "```python\n",
    "print(test_file.readline())\n",
    "```"
   ]
  },
  {
   "cell_type": "code",
   "execution_count": 23,
   "metadata": {},
   "outputs": [
    {
     "name": "stdout",
     "output_type": "stream",
     "text": [
      "#name\ttxStart\ttxEnd\texonCount\n",
      "\n"
     ]
    }
   ],
   "source": [
    "print(test_file.readline())"
   ]
  },
  {
   "cell_type": "markdown",
   "metadata": {},
   "source": [
    "The previous code printed the first line of the file, which is the column header line. The header line sometimes begins with a hash symbol, sometimes not. Always check before you code to see if your file has a header or not.\n",
    "\n",
    "To read the next line, run \n",
    "\n",
    "```python\n",
    "print(test_file.readline())\n",
    "``` \n",
    "\n",
    "again in cell below. You should see the second line of the file, which is the first line of actual data. **This is an important feature of `.readline()`.** Python remembers which line was last read in from the file, and automatically moves on to the next one each time `.readline()` is called. Once the Python interpreter reads the last line of the file, it stops there. It will not start over, even if you call `.readline()` again.\n",
    "\n",
    "(So what if you decide you want to go back and read the first line again? The easiet way is to reset everying by rerunning the `open()` command, giving you a brand new file object."
   ]
  },
  {
   "cell_type": "code",
   "execution_count": 24,
   "metadata": {},
   "outputs": [
    {
     "name": "stdout",
     "output_type": "stream",
     "text": [
      "ENST00000371007.6\t67092164\t67231852\t8\n",
      "\n"
     ]
    }
   ],
   "source": [
    "print(test_file.readline())"
   ]
  },
  {
   "cell_type": "markdown",
   "metadata": {},
   "source": [
    "### Using a for loop to read lines\n",
    "\n",
    "The functions `.readline()` and `.read()` are useful for some purposes, but the third way to read file data is the most generally useful:\n",
    "\n",
    "Earlier, you used a **`for`** loop to *iterate* over individual elements in a list. A file object is also *iterable*: you can use a **`for`** loop to iterate over lines in a file.\n",
    "\n",
    "The syntax is the same as that used to iterate over a list. Instead of a list variable, you use a file object variable. Rather than assigning list items to the temporary variable, the `for` loop assigns file lines to the temporary variable. *The `for` loop itself reads in each line – you do not need to call `.readline()` within the block of the `for` loop.*\n",
    "\n",
    "Using the syntax you used to iterate over lists, write a `for` loop to iterate over `file` in the cell below. In the block of the loop, simply print the file line.\n",
    "\n",
    "**Important:** The `for` loop will also pick up where your previous calls to `.readline()` or `.read()` left off - which means that if you invoked `.readline()` or `.read()` already, Python has already gone through some or all of the file and the `for` loop will miss out on some or all of the lines and you have to `open` the file again. It may be useful to use `.readline()` once before a `for` loop if you know the file has a header.\n",
    "\n",
    "In the cell below, print the remaining lines of file using a for loop using this code:\n",
    "```python\n",
    "for line in test_file:\n",
    "    print(line)\n",
    "```\n",
    "\n",
    "Note that `print` automatically adds a new line after each line, so you get two new lines in this case."
   ]
  },
  {
   "cell_type": "code",
   "execution_count": 25,
   "metadata": {},
   "outputs": [
    {
     "name": "stdout",
     "output_type": "stream",
     "text": [
      "ENST00000371006.5\t67092175\t67127261\t6\n",
      "\n",
      "ENST00000475209.6\t67092175\t67127261\t7\n",
      "\n",
      "ENST00000621590.4\t67092396\t67127261\t3\n",
      "\n",
      "ENST00000263946.7\t201283451\t201332993\t15\n",
      "\n",
      "ENST00000367324.7\t201283451\t201332993\t14\n",
      "\n",
      "ENST00000622031.4\t201283511\t201330288\t17\n",
      "\n",
      "ENST00000352845.3\t201283702\t201328836\t14\n",
      "\n",
      "ENST00000337907.7\t8352396\t8817465\t24\n",
      "\n"
     ]
    }
   ],
   "source": [
    "for line in test_file:\n",
    "    print(line)"
   ]
  },
  {
   "cell_type": "markdown",
   "metadata": {},
   "source": [
    "## Processing lines: Whitespace and splitting lines into data\n",
    "\n",
    "Previously, we discussed the concept of whitespace, and the steps for processing each line from the file. To recap:\n",
    "\n",
    "1. File lines are read in as strings that end in newlines (`\\n`).\n",
    "2. Strip trailing newlines from the file line with `.strip()`.\n",
    "3. Split tab-delimited multi-column data into a *list* of values with `.split('\\t)`.\n",
    "4. Append individual values to the corresponding lists.\n",
    "\n",
    "In the cells above, we've used `print()` to display file lines. This hides the whitespace characters `\\t` and `\\n`, because `print()` intentionally formats text to make it more readable.\n",
    "\n",
    "To see that our lines come in as strings with whitespace characters, run the code cell below:"
   ]
  },
  {
   "cell_type": "code",
   "execution_count": 26,
   "metadata": {},
   "outputs": [
    {
     "data": {
      "text/plain": [
       "'ENST00000371007.6\\t67092164\\t67231852\\t8\\n'"
      ]
     },
     "execution_count": 26,
     "metadata": {},
     "output_type": "execute_result"
    }
   ],
   "source": [
    "# open a fresh file object\n",
    "test_file = open('data/test_table.txt')\n",
    "\n",
    "# read in the header line and assign to variable 'header' \n",
    "header = test_file.readline()\n",
    "\n",
    "# read in the first line\n",
    "test_line = test_file.readline()\n",
    "\n",
    "# display the line, showing tabs and newlines\n",
    "test_line"
   ]
  },
  {
   "cell_type": "markdown",
   "metadata": {},
   "source": [
    "### Strip trailing newlines\n",
    "\n",
    "The output above is a string (how can you tell?) with some whitespace. To convert this line into usable data, we first strip the trailing newline using `.strip()`. (If we fail to do this, the newline character itself will remain stuck to the last data value, causing problems later.)\n",
    "\n",
    "As discussed in the lecture, **the output of `.strip()` is a copy of the original line**, with the newline removed. To save that copy, it needs to be assigned to a new variable. In the cell below, type the following code:\n",
    "\n",
    "```python\n",
    "stripped = test_line.strip()\n",
    "stripped # to display the line as output\n",
    "```\n",
    "\n",
    "The `\\n` should now be gone from the end of the string."
   ]
  },
  {
   "cell_type": "code",
   "execution_count": 27,
   "metadata": {},
   "outputs": [
    {
     "data": {
      "text/plain": [
       "'ENST00000371007.6\\t67092164\\t67231852\\t8'"
      ]
     },
     "execution_count": 27,
     "metadata": {},
     "output_type": "execute_result"
    }
   ],
   "source": [
    "stripped = test_line.strip()\n",
    "stripped"
   ]
  },
  {
   "cell_type": "markdown",
   "metadata": {},
   "source": [
    "### Split a line into data elements\n",
    "Now we split the string into individual values at the tabs. To do this, we use `.split()`. **The output of `.split()` is a list.**\n",
    "\n",
    "To see this, type the following code in to the cell below:\n",
    "```python\n",
    "stripped.split('\\t')\n",
    "```"
   ]
  },
  {
   "cell_type": "code",
   "execution_count": 28,
   "metadata": {},
   "outputs": [
    {
     "data": {
      "text/plain": [
       "['ENST00000371007.6', '67092164', '67231852', '8']"
      ]
     },
     "execution_count": 28,
     "metadata": {},
     "output_type": "execute_result"
    }
   ],
   "source": [
    "stripped.split('\\t')"
   ]
  },
  {
   "cell_type": "markdown",
   "metadata": {},
   "source": [
    "Look at the output: What kind of data type is this? (Hint: What is enclosed in brackets, with values separated by commas?) \n",
    "\n",
    "Also, notice that the individual data elements are enclosed in quotes. What is the type of the individual elements?\n",
    "\n",
    "To save the output, rerun `stripped.split('\\t')` in the cell below, but this time assign the output to the variable `split`. Then, on a new line type `split` to display it."
   ]
  },
  {
   "cell_type": "code",
   "execution_count": 29,
   "metadata": {},
   "outputs": [
    {
     "data": {
      "text/plain": [
       "['ENST00000371007.6', '67092164', '67231852', '8']"
      ]
     },
     "execution_count": 29,
     "metadata": {},
     "output_type": "execute_result"
    }
   ],
   "source": [
    "split = stripped.split('\\t')\n",
    "split"
   ]
  },
  {
   "cell_type": "markdown",
   "metadata": {},
   "source": [
    "### A shortcut\n",
    "\n",
    "The steps above can be combined into a single line of code, by stringing `strip()` and `split()` together. Run the cell below to see this."
   ]
  },
  {
   "cell_type": "code",
   "execution_count": 30,
   "metadata": {},
   "outputs": [
    {
     "data": {
      "text/plain": [
       "['ENST00000371007.6', '67092164', '67231852', '8']"
      ]
     },
     "execution_count": 30,
     "metadata": {},
     "output_type": "execute_result"
    }
   ],
   "source": [
    "split = test_line.strip().split('\\t')\n",
    "split"
   ]
  },
  {
   "cell_type": "markdown",
   "metadata": {},
   "source": [
    "### Assign data elements to variables\n",
    "\n",
    "We're almost there! What began as a single file line has now been split into a list of individual values. The final step is to take the individual data elements from the list `split` and append them to separate lists that represent indivudal columns of data in the file.\n",
    "\n",
    "To do this, we use list indexing. Remember, to access one element of a list, we write the variable name followed by the list position in square brackets: `list_name[0]`.\n",
    "\n",
    "Since `split` is a list, you can use indexing to access the individual data values. In the cell below, use `.append()`, together with indexing of `split`, to append the individual data values to the empty lists."
   ]
  },
  {
   "cell_type": "code",
   "execution_count": 33,
   "metadata": {},
   "outputs": [],
   "source": [
    "# Some blank lists to hold our data\n",
    "\n",
    "gene_names = []\n",
    "starts = []\n",
    "stops = []\n",
    "exon_counts = []\n",
    "\n",
    "# Now append elements of split to the approprite lists.\n",
    "# For example, since the gene name is in the first position of our list called split, we can use:\n",
    "# gene_names.append(split[0])\n",
    "# to add the gene name to the gene_names list\n",
    "# Now do that for gene_names, starts, stops, and exon_counts\n",
    "gene_names.append(split[0])\n",
    "starts.append(split[1])\n",
    "stops.append(split[2])\n",
    "exon_counts.append(split[3])"
   ]
  },
  {
   "cell_type": "markdown",
   "metadata": {},
   "source": [
    "### Convert data types\n",
    "\n",
    "We have one last detail to take care of. Our numerical data (the values for `start`, `stop`, and `exon_count`) are still *strings*. (How can you check this?) Python will balk if you try to do math with them. \n",
    "\n",
    "In the cell below, try subtracting the first (and only) element from the list `starts` from the first element of `stops` to calculate the length of our example gene. You'll get an error. What does the error message say?"
   ]
  },
  {
   "cell_type": "code",
   "execution_count": 35,
   "metadata": {},
   "outputs": [
    {
     "ename": "TypeError",
     "evalue": "unsupported operand type(s) for -: 'str' and 'str'",
     "output_type": "error",
     "traceback": [
      "\u001b[0;31m---------------------------------------------------------------------------\u001b[0m",
      "\u001b[0;31mTypeError\u001b[0m                                 Traceback (most recent call last)",
      "\u001b[0;32m<ipython-input-35-aa150a528800>\u001b[0m in \u001b[0;36m<module>\u001b[0;34m\u001b[0m\n\u001b[0;32m----> 1\u001b[0;31m \u001b[0mstops\u001b[0m\u001b[0;34m[\u001b[0m\u001b[0;36m0\u001b[0m\u001b[0;34m]\u001b[0m \u001b[0;34m-\u001b[0m \u001b[0mstarts\u001b[0m\u001b[0;34m[\u001b[0m\u001b[0;36m0\u001b[0m\u001b[0;34m]\u001b[0m\u001b[0;34m\u001b[0m\u001b[0;34m\u001b[0m\u001b[0m\n\u001b[0m",
      "\u001b[0;31mTypeError\u001b[0m: unsupported operand type(s) for -: 'str' and 'str'"
     ]
    }
   ],
   "source": [
    "stops[0] - starts[0]"
   ]
  },
  {
   "cell_type": "markdown",
   "metadata": {},
   "source": [
    "How do we convert our numerical data to actual numerical data types? Recall that there are functions that convert data types: `str()` converts items to strings, `float()` converts items to decimal numbers, and `int()` converts items to integers.\n",
    "\n",
    "We convert the string elements of the list `split` to integers using `int()`. You can do this by nesting the integer conversion within the `.append()` function:\n",
    "\n",
    "```python\n",
    "exon_count.append(int(split[3]))\n",
    "```\n",
    "Go ahead and change the code above (two code cells up) convert convert numerical data to the integer type, before appending to appropriate lists. Then, run the next code cell. You should be able to subtract start from stop without error. \n",
    "\n"
   ]
  },
  {
   "cell_type": "code",
   "execution_count": 36,
   "metadata": {},
   "outputs": [
    {
     "data": {
      "text/plain": [
       "139688"
      ]
     },
     "execution_count": 36,
     "metadata": {},
     "output_type": "execute_result"
    }
   ],
   "source": [
    "# Some blank lists to hold our data\n",
    "\n",
    "gene_names = []\n",
    "starts = []\n",
    "stops = []\n",
    "exon_counts = []\n",
    "\n",
    "# Now append elements of split to the approprite lists.\n",
    "# For example, since the gene name is in the first position of our list called split, we can use:\n",
    "# gene_names.append(split[0])\n",
    "# to add the gene name to the gene_names list\n",
    "# Now do that for gene_names, starts, stops, and exon_counts\n",
    "gene_names.append(split[0])\n",
    "starts.append(int(split[1]))\n",
    "stops.append(int(split[2]))\n",
    "exon_counts.append(int(split[3]))\n",
    "\n",
    "stops[0] - starts[0]"
   ]
  },
  {
   "cell_type": "markdown",
   "metadata": {},
   "source": [
    "Finally, when you're finished reading in the data from a file, it's good pratice to close the file as follows:\n",
    "\n",
    "```python\n",
    "test_file.close()\n",
    "```\n",
    "Run that command in the cell below to close the file."
   ]
  },
  {
   "cell_type": "code",
   "execution_count": 37,
   "metadata": {},
   "outputs": [],
   "source": [
    "test_file.close()"
   ]
  },
  {
   "cell_type": "markdown",
   "metadata": {},
   "source": [
    "## Combine all these steps in a for loop, using test data\n",
    "\n",
    "Now bring it all together, while still using the `test_file` data:"
   ]
  },
  {
   "cell_type": "code",
   "execution_count": 38,
   "metadata": {},
   "outputs": [],
   "source": [
    "# Some blank lists to hold our data\n",
    "\n",
    "gene_names = []\n",
    "starts = []\n",
    "stops = []\n",
    "exon_counts = []\n",
    "\n",
    "# open a fresh file object\n",
    "test_file = open('data/test_table.txt')\n",
    "\n",
    "# read in the header line and assign to variable 'header' \n",
    "header = test_file.readline()\n",
    "\n",
    "# a for loop to iterate over all the lines\n",
    "for line in test_file:\n",
    "    \n",
    "    split = line.strip().split('\\t')\n",
    "\n",
    "    gene_names.append(split[0])\n",
    "    starts.append(int(split[1]))\n",
    "    stops.append(int(split[2]))\n",
    "    exon_counts.append(int(split[3]))\n",
    "    \n",
    "test_file.close() # close the connection"
   ]
  },
  {
   "cell_type": "markdown",
   "metadata": {},
   "source": [
    "## Read data from the entire file gene_table.txt\n",
    "\n",
    "Now put all of the concepts together to write code that reads in and process data from an entire file.\n",
    "\n",
    "You now have all of the Python syntax you need to load and process the data from `data/gene_table.txt`. It has the same format as `data/test_table.txt`.\n",
    "\n",
    "Pulling everything discussed above together, do the following in the code cell below:\n",
    "\n",
    "1. Define 4 empty lists to hold the data: `gene_names`, `starts`, `stops`, `exon_counts`.\n",
    "2. Open the file `data/gene_table.txt`. This is no longer a `test_file`, it's the real file!\n",
    "3. Use `.readline()` to read in *only* the header line, assign it to a variable named `header`.\n",
    "4. Write a `for` loop to process the remaining file lines, appending individual data values to the appropriate list (after conversion to the correct data type).\n",
    "5. Finish by closing the file."
   ]
  },
  {
   "cell_type": "code",
   "execution_count": 39,
   "metadata": {},
   "outputs": [],
   "source": [
    "# Type your code below\n",
    "\n",
    "# Some blank lists to hold our data\n",
    "\n",
    "gene_names = []\n",
    "starts = []\n",
    "stops = []\n",
    "exon_counts = []\n",
    "\n",
    "# open a fresh file object\n",
    "file = open('data/gene_table.txt')\n",
    "\n",
    "# read in the header line and assign to variable 'header' \n",
    "header = file.readline()\n",
    "\n",
    "# a for loop to iterate over all the lines\n",
    "for line in file:\n",
    "    \n",
    "    split = line.strip().split('\\t')\n",
    "\n",
    "    gene_names.append(split[0])\n",
    "    starts.append(int(split[1]))\n",
    "    stops.append(int(split[2]))\n",
    "    exon_counts.append(int(split[3]))\n",
    "    \n",
    "test_file.close() # close the connection"
   ]
  },
  {
   "cell_type": "code",
   "execution_count": 40,
   "metadata": {},
   "outputs": [],
   "source": [
    "# Check your answers using assert.\n",
    "assert len(stops) == 197782\n",
    "assert gene_names[100389] == 'uc058bab.1'\n",
    "assert type(exon_counts[0]) == int\n",
    "# If everything is correct, you get no output from assert."
   ]
  },
  {
   "cell_type": "markdown",
   "metadata": {},
   "source": [
    "### How long are human genes?\n",
    "\n",
    "We opened `data/gene_table.txt`, read in the data, and closed the file. Our data is now stored in four lists. We can now calculate the lengths of all human genes. \n",
    "\n",
    "In the cell below, do the following:\n",
    "\n",
    "1. Loop over the lists `stops` and `starts`, using `zip()`.\n",
    "\n",
    "2. In the block of the `for` loop, calculate gene lengths by subtracting each start coordinate from its corresponding stop coordinate. Append the result to a list called `lengths`.\n",
    "\n",
    "Remember to define `lengths` as an empty list before you start your **`for`** loop."
   ]
  },
  {
   "cell_type": "code",
   "execution_count": 41,
   "metadata": {},
   "outputs": [],
   "source": [
    "# Calculate gene lengths using a for loop here\n",
    "\n",
    "lengths = []\n",
    "\n",
    "for start, stop in zip(starts, stops):\n",
    "    lengths.append(stop - start)\n",
    "    \n",
    "# DON'T TRY TO PRINT LENGTHS -- IT'S VERY LONG!"
   ]
  },
  {
   "cell_type": "code",
   "execution_count": 42,
   "metadata": {},
   "outputs": [],
   "source": [
    "# Check your answers using assert\n",
    "assert len(lengths) == 197782\n",
    "assert lengths[1827] == 16858\n",
    "assert lengths[53] == 104\n",
    "assert lengths[75] - lengths[20938] == 3273\n",
    "# If everything is correct, you get no output from assert."
   ]
  },
  {
   "cell_type": "code",
   "execution_count": null,
   "metadata": {},
   "outputs": [],
   "source": [
    "# End of Activity 2"
   ]
  }
 ],
 "metadata": {
  "kernelspec": {
   "display_name": "Python 3.9.5 - rstudio",
   "language": "python",
   "name": "rstudio-user-3.9.5"
  },
  "language_info": {
   "codemirror_mode": {
    "name": "ipython",
    "version": 3
   },
   "file_extension": ".py",
   "mimetype": "text/x-python",
   "name": "python",
   "nbconvert_exporter": "python",
   "pygments_lexer": "ipython3",
   "version": "3.9.5"
  }
 },
 "nbformat": 4,
 "nbformat_minor": 4
}
